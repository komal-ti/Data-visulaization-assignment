{
 "cells": [
  {
   "cell_type": "markdown",
   "metadata": {},
   "source": [
    "Ques1:Create a Bokeh plot displaying a sine wave. Set x-values from 0 to 10 and y-values as the sine of x.\n"
   ]
  },
  {
   "cell_type": "code",
   "execution_count": null,
   "metadata": {},
   "outputs": [
    {
     "name": "stdout",
     "output_type": "stream",
     "text": [
      "Requirement already satisfied: bokeh in c:\\users\\komal\\appdata\\local\\programs\\python\\python312\\lib\\site-packages (3.6.1)Note: you may need to restart the kernel to use updated packages.\n",
      "\n",
      "Requirement already satisfied: Jinja2>=2.9 in c:\\users\\komal\\appdata\\local\\programs\\python\\python312\\lib\\site-packages (from bokeh) (3.1.4)\n",
      "Requirement already satisfied: contourpy>=1.2 in c:\\users\\komal\\appdata\\local\\programs\\python\\python312\\lib\\site-packages (from bokeh) (1.3.1)\n",
      "Requirement already satisfied: numpy>=1.16 in c:\\users\\komal\\appdata\\local\\programs\\python\\python312\\lib\\site-packages (from bokeh) (2.1.3)\n",
      "Requirement already satisfied: packaging>=16.8 in c:\\users\\komal\\appdata\\local\\programs\\python\\python312\\lib\\site-packages (from bokeh) (24.1)\n",
      "Requirement already satisfied: pandas>=1.2 in c:\\users\\komal\\appdata\\local\\programs\\python\\python312\\lib\\site-packages (from bokeh) (2.2.3)\n",
      "Requirement already satisfied: pillow>=7.1.0 in c:\\users\\komal\\appdata\\local\\programs\\python\\python312\\lib\\site-packages (from bokeh) (11.0.0)\n",
      "Requirement already satisfied: PyYAML>=3.10 in c:\\users\\komal\\appdata\\local\\programs\\python\\python312\\lib\\site-packages (from bokeh) (6.0.2)\n",
      "Requirement already satisfied: tornado>=6.2 in c:\\users\\komal\\appdata\\local\\programs\\python\\python312\\lib\\site-packages (from bokeh) (6.4.1)\n",
      "Requirement already satisfied: xyzservices>=2021.09.1 in c:\\users\\komal\\appdata\\local\\programs\\python\\python312\\lib\\site-packages (from bokeh) (2024.9.0)\n",
      "Requirement already satisfied: MarkupSafe>=2.0 in c:\\users\\komal\\appdata\\local\\programs\\python\\python312\\lib\\site-packages (from Jinja2>=2.9->bokeh) (2.1.5)\n",
      "Requirement already satisfied: python-dateutil>=2.8.2 in c:\\users\\komal\\appdata\\local\\programs\\python\\python312\\lib\\site-packages (from pandas>=1.2->bokeh) (2.9.0.post0)\n",
      "Requirement already satisfied: pytz>=2020.1 in c:\\users\\komal\\appdata\\local\\programs\\python\\python312\\lib\\site-packages (from pandas>=1.2->bokeh) (2024.2)\n",
      "Requirement already satisfied: tzdata>=2022.7 in c:\\users\\komal\\appdata\\local\\programs\\python\\python312\\lib\\site-packages (from pandas>=1.2->bokeh) (2024.2)\n",
      "Requirement already satisfied: six>=1.5 in c:\\users\\komal\\appdata\\local\\programs\\python\\python312\\lib\\site-packages (from python-dateutil>=2.8.2->pandas>=1.2->bokeh) (1.16.0)\n"
     ]
    },
    {
     "name": "stderr",
     "output_type": "stream",
     "text": [
      "\n",
      "[notice] A new release of pip is available: 24.2 -> 24.3.1\n",
      "[notice] To update, run: python.exe -m pip install --upgrade pip\n"
     ]
    }
   ],
   "source": [
    "#pip install bokeh\n"
   ]
  },
  {
   "cell_type": "code",
   "execution_count": 7,
   "metadata": {},
   "outputs": [],
   "source": [
    "from bokeh.plotting import figure, show\n",
    "import numpy as np\n",
    "\n",
    "# Generate x and y values\n",
    "x = np.linspace(0, 10, 100)  # x-values from 0 to 10\n",
    "y = np.sin(x)  # y-values as the sine of x\n",
    "\n",
    "# Create a Bokeh figure\n",
    "p = figure(title=\"Sine Wave\", x_axis_label='x', y_axis_label='sin(x)', \n",
    "           height=400, width=800)  # Updated attribute names\n",
    "\n",
    "# Add a line renderer with the sine wave data\n",
    "p.line(x, y, legend_label=\"sin(x)\", line_width=2, color=\"blue\")\n",
    "\n",
    "# Show the plot in the default browser\n",
    "show(p)\n"
   ]
  },
  {
   "cell_type": "markdown",
   "metadata": {},
   "source": [
    "Ques2:Create a Bokeh scatter plot using randomly generated x and y values. Use different sizes and colors for the \n",
    "markers based on the 'sizes' and 'colors' columns."
   ]
  },
  {
   "cell_type": "code",
   "execution_count": 8,
   "metadata": {},
   "outputs": [],
   "source": [
    "from bokeh.plotting import figure, show\n",
    "import numpy as np\n",
    "import pandas as pd\n",
    "\n",
    "# Generate random data\n",
    "np.random.seed(42)\n",
    "n = 100\n",
    "x = np.random.rand(n) * 10  # x values between 0 and 10\n",
    "y = np.random.rand(n) * 10  # y values between 0 and 10\n",
    "sizes = np.random.rand(n) * 100  # Random sizes for the markers\n",
    "colors = np.random.choice(['red', 'green', 'blue', 'orange', 'purple'], n)  # Random colors\n",
    "\n",
    "# Create a DataFrame\n",
    "df = pd.DataFrame({\n",
    "    'x': x,\n",
    "    'y': y,\n",
    "    'sizes': sizes,\n",
    "    'colors': colors\n",
    "})\n",
    "\n",
    "# Create a Bokeh figure\n",
    "p = figure(title=\"Scatter Plot with Custom Sizes and Colors\", \n",
    "           x_axis_label='x', y_axis_label='y', \n",
    "           height=400, width=800)\n",
    "\n",
    "# Add scatter plot\n",
    "p.scatter(x='x', y='y', size='sizes', color='colors', \n",
    "          legend_field='colors', source=df, fill_alpha=0.6)\n",
    "\n",
    "# Show the plot\n",
    "show(p)\n"
   ]
  },
  {
   "cell_type": "markdown",
   "metadata": {},
   "source": [
    "Ques3: Generate a Bokeh bar chart representing the counts of different fruits using the following dataset.\n",
    " fruits = ['Apples', 'Oranges', 'Bananas', 'Pears']\n",
    " counts = [20, 25, 30, 35]"
   ]
  },
  {
   "cell_type": "code",
   "execution_count": 9,
   "metadata": {},
   "outputs": [],
   "source": [
    "from bokeh.plotting import figure, show\n",
    "from bokeh.io import output_notebook\n",
    "import pandas as pd\n",
    "\n",
    "# Fruit data\n",
    "fruits = ['Apples', 'Oranges', 'Bananas', 'Pears']\n",
    "counts = [20, 25, 30, 35]\n",
    "\n",
    "# Create a DataFrame\n",
    "df = pd.DataFrame({\n",
    "    'fruits': fruits,\n",
    "    'counts': counts\n",
    "})\n",
    "\n",
    "# Create a Bokeh figure\n",
    "p = figure(x_range=fruits, title=\"Fruit Counts\", \n",
    "           x_axis_label='Fruits', y_axis_label='Counts', \n",
    "           height=400, width=800)\n",
    "\n",
    "# Add bars\n",
    "p.vbar(x='fruits', top='counts', width=0.6, source=df, legend_field='fruits', color=\"skyblue\", alpha=0.7)\n",
    "\n",
    "# Customize the plot\n",
    "p.xgrid.grid_line_color = None\n",
    "p.y_range.start = 0\n",
    "p.legend.title = 'Fruits'\n",
    "\n",
    "# Show the plot\n",
    "show(p)\n"
   ]
  },
  {
   "cell_type": "markdown",
   "metadata": {},
   "source": [
    "Ques4:Create a Bokeh histogram to visualize the distribution of the given data.\n",
    " data_hist = np.random.randn(1000)\n",
    " hist, edges = np.histogram(data_hist, bins=30)"
   ]
  },
  {
   "cell_type": "code",
   "execution_count": 10,
   "metadata": {},
   "outputs": [],
   "source": [
    "from bokeh.plotting import figure, show\n",
    "from bokeh.io import output_notebook\n",
    "import numpy as np\n",
    "\n",
    "# Generate data\n",
    "data_hist = np.random.randn(1000)  # Random normal distribution\n",
    "hist, edges = np.histogram(data_hist, bins=30)  # Histogram data\n",
    "\n",
    "# Create a Bokeh figure\n",
    "p = figure(title=\"Histogram of Random Data\", \n",
    "           x_axis_label='Value', y_axis_label='Frequency', \n",
    "           height=400, width=800)\n",
    "\n",
    "# Add a quad glyph for the histogram\n",
    "p.quad(top=hist, bottom=0, left=edges[:-1], right=edges[1:], \n",
    "       fill_color=\"skyblue\", line_color=\"white\", alpha=0.7)\n",
    "\n",
    "# Customize plot\n",
    "p.xgrid.grid_line_color = None\n",
    "p.y_range.start = 0\n",
    "p.title.text_font_size = '16pt'\n",
    "\n",
    "# Show the plot\n",
    "show(p)\n"
   ]
  },
  {
   "cell_type": "markdown",
   "metadata": {},
   "source": [
    "Ques5:Create a Bokeh heatmap using the provided dataset.\n",
    " data_heatmap = np.random.rand(10, 10)\n",
    " x = np.linspace(0, 1, 10)\n",
    " y = np.linspace(0, 1, 10)\n",
    " xx, yy = np.meshgrid(x, y)"
   ]
  },
  {
   "cell_type": "code",
   "execution_count": 14,
   "metadata": {},
   "outputs": [],
   "source": [
    "from bokeh.plotting import figure, show\n",
    "from bokeh.io import output_notebook\n",
    "from bokeh.models import ColorBar, ColumnDataSource\n",
    "from bokeh.transform import linear_cmap\n",
    "from bokeh.palettes import Viridis256\n",
    "import numpy as np\n",
    "\n",
    "# Generate data\n",
    "data_heatmap = np.random.rand(10, 10)  # Random 10x10 array\n",
    "x = np.linspace(0, 1, 10)  # x values from 0 to 1\n",
    "y = np.linspace(0, 1, 10)  # y values from 0 to 1\n",
    "xx, yy = np.meshgrid(x, y)  # Create a mesh grid\n",
    "\n",
    "# Flatten the data to use with Bokeh\n",
    "x_coords = xx.flatten()\n",
    "y_coords = yy.flatten()\n",
    "colors = data_heatmap.flatten()\n",
    "\n",
    "# Create a ColumnDataSource\n",
    "source = ColumnDataSource(data={'x': x_coords, 'y': y_coords, 'colors': colors})\n",
    "\n",
    "# Create a Bokeh figure\n",
    "p = figure(title=\"Heatmap Example\", \n",
    "           x_axis_label='X', y_axis_label='Y', \n",
    "           width=600, height=600)\n",
    "\n",
    "# Create a linear color map\n",
    "color_mapper = linear_cmap(field_name='colors', palette=Viridis256, low=min(colors), high=max(colors))\n",
    "\n",
    "# Add rectangles (heatmap cells)\n",
    "p.rect(x='x', y='y', width=0.1, height=0.1, \n",
    "       source=source, color=color_mapper, line_color=None)\n",
    "\n",
    "# Add color bar\n",
    "color_bar = ColorBar(color_mapper=color_mapper['transform'], width=8, location=(0,0))\n",
    "p.add_layout(color_bar, 'right')\n",
    "\n",
    "# Show the plot\n",
    "show(p)\n"
   ]
  },
  {
   "cell_type": "code",
   "execution_count": null,
   "metadata": {},
   "outputs": [],
   "source": []
  }
 ],
 "metadata": {
  "kernelspec": {
   "display_name": "Python 3",
   "language": "python",
   "name": "python3"
  },
  "language_info": {
   "codemirror_mode": {
    "name": "ipython",
    "version": 3
   },
   "file_extension": ".py",
   "mimetype": "text/x-python",
   "name": "python",
   "nbconvert_exporter": "python",
   "pygments_lexer": "ipython3",
   "version": "3.12.6"
  }
 },
 "nbformat": 4,
 "nbformat_minor": 2
}
